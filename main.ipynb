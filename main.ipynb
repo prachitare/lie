

import pandas as pd
import numpy as np
import matplotlib.pyplot as plt
import warnings
import re




train = pd.read_excel('../input/Final_Train.xlsx')
test = pd.read_excel('../input/Final_Test.xlsx')


train.head()


train.info()

train['Fees'].hist(bins=5)

print('Qualification:', train['Qualification'].nunique())
print('Experience:', train['Experience'].nunique())
print('Rating:', train['Rating'].nunique())
print('Place:', train['Place'].nunique())
print('Profile', train['Profile'].nunique())


df_train = train[['Qualification', 'Profile', 'Experience', 'Place', 'Miscellaneous_Info', 'Rating','Fees']]
df_test = test[['Qualification', 'Profile','Experience', 'Place', 'Miscellaneous_Info', 'Rating']]

df_train.head()


df_train['Experience'] = df_train['Experience'].str.replace('years experience','').astype(int)
df_test['Experience'] = df_test['Experience'].str.replace('years experience','').astype(int)


fig, ax = plt.subplots(figsize=(15, 7))
sns.countplot(train_df['Fees'].sort_values(), ax=ax, color='k', alpha=0.5)
plt.show()


fig, ax = plt.subplots(figsize=(15,7))
sns.countplot(train_df['Experience'], ax=ax, color='k', alpha=0.5)
ax.set(title='Distribution of Experience')
plt.show()


sns.jointplot(train_df['Experience'], train_df['Rating'], color='k', kind="reg", fit_reg=True, joint_kws={'scatter_kws':{"alpha": 0.2}})
plt.show()


sns.jointplot(train_df['Experience'], train_df['Fees'], color='k', kind="reg", fit_reg=True,joint_kws={'scatter_kws':{"alpha": 0.2}})
plt.show()



sns.jointplot(train_df['Rating'], train_df['Fees'], color='k', kind="reg", fit_reg=True,joint_kws={'scatter_kws':{"alpha": 0.2}})
plt.show()


fig, ax = plt.subplots(figsize=(8,6))
sns.countplot(train_df['City'].sort_values(), ax=ax, color='k', alpha=0.5)
plt.xticks(rotation=50)
plt.show()



fig, ax = plt.subplots(figsize=(8,6))
sns.countplot(train_df['Profile'].sort_values(), ax=ax, color='k', alpha=0.5)
plt.xticks(rotation=50)
plt.show()



sns.catplot(x='Fees', y='City', data=train_df.sort_values("City"), kind='box', height=6, aspect= 1.5, color='gray')
plt.show()



sns.catplot(x='Fees', y='Profile', data=train.sort_values("Profile"), kind='box', height=6, aspect= 1.5, color='gray')
plt.show()


sns.catplot(x='Fees', y='City', row='Profile', data=train.sort_values("Profile"), kind='box', height=4, aspect= 1.5, palette="gray")
plt.show()



sns.pairplot(train_df.dropna().drop(['Qualification', 'Place', 'Area', 'Miscellaneous_Info'], axis=1), kind="scatter", hue="City", plot_kws=dict(s=50, edgecolor="white", linewidth=1))
plt.show()


sns.catplot(x='Experience', y='Fees', row='City', hue='Profile', data=train, height=4, aspect= 3)
plt.show()



sns.catplot(x='Rating', y='Fees', row='City', hue='Profile', data=train_df.dropna(), height=4, aspect= 3)
plt.show()

In [134]:

sns.violinplot(x = 'Has_M_Info', y = 'Fees', data=train_df)
plt.show()



quals = pd.DataFrame(item for item in train_df['Qualification'].str.split(', '))



quals.head()


quals.isnull().sum()

for i in range(10):
    print(quals[i].nunique())



quals[0].value_counts()




vecz = TfidfVectorizer(analyzer='word')



vecz.fit(train_df['Qualification'])


TfidfVectorizer(analyzer='word', binary=False, decode_error='strict',
        dtype=<class 'numpy.int64'>, encoding='utf-8', input='content',
        lowercase=True, max_df=1.0, max_features=None, min_df=1,
        ngram_range=(1, 1), norm='l2', preprocessor=None, smooth_idf=True,
        stop_words=None, strip_accents=None, sublinear_tf=False,
        token_pattern='(?u)\\b\\w\\w+\\b', tokenizer=None, use_idf=True,
        vocabulary=None)

qual_train = vecz.transform(train_df['Qualification'])



qual_train




qual_test = vecz.transform(test_df['Qualification'])


qual_test


svd = TruncatedSVD(n_components=20)
svd.fit(qual_train)
print(svd.explained_variance_ratio_.sum())
print(svd.explained_variance_ratio_)



qual_train = svd.transform(qual_train)
qual_train = pd.DataFrame(qual_train, columns=['svd_{}'.format(i) for i in range(20)])
train_df = pd.concat((train_df, qual_train), axis=1)
qual_test = svd.transform(qual_test)
qual_test = pd.DataFrame(qual_test, columns=['svd_{}'.format(i) for i in range(20)])
test_df = pd.concat((test_df, qual_test), axis=1)


def clean_text(text):
    text = str(text).lower()
    text = re.sub(r'[^a-z]', ' ', text)
    text = re.sub(r'\s+', ' ', text)
    return text

df_train['Qualification'] = df_train['Qualification'].apply(clean_text)
df_test['Qualification'] = df_test['Qualification'].apply(clean_text)

def clean_place(text):
    text = str(text).lower()
    text = re.sub(r'[^a-z0-9]', ' ', text)
    text = re.sub(r'\s+', ' ', text)
    return text

df_train['Place'].fillna('missing', inplace=True)
df_test['Place'].fillna('missing', inplace=True)
df_train['Place'] = df_train['Place'].apply(clean_place)
df_test['Place'] = df_test['Place'].apply(clean_place)



df_train['Rating'].fillna('0%', inplace=True)
df_test['Rating'].fillna('0%', inplace=True)

def clean_rating(text):
    text = re.sub(r'%', '', str(text))
    return text

df_train['Rating'] = df_train['Rating'].apply(clean_rating)
df_train['Rating'] = df_train['Rating'].astype(int)

df_test['Rating'] = df_test['Rating'].apply(clean_rating)
df_test['Rating'] = df_test['Rating'].astype(int)

df_train['Miscellaneous_Info'].fillna('missing', inplace=True)
df_test['Miscellaneous_Info'].fillna('missing', inplace=True)

def get_feedback(feedback):
    feedback = re.findall(r'\d+ Feedback', str(feedback))
    if feedback == []:
        feedback = '0 Feedback'
        return feedback
    else:
        return feedback[0]

df_train['Feedback'] = df_train['Miscellaneous_Info'].apply(get_feedback)
df_train['Feedback'] = df_train['Feedback'].str.replace(' Feedback','')
df_train['Feedback'] = df_train['Feedback'].astype(int)

df_test['Feedback'] = df_test['Miscellaneous_Info'].apply(get_feedback)
df_test['Feedback'] = df_test['Feedback'].str.replace(' Feedback','')
df_test['Feedback'] = df_test['Feedback'].astype(int)


def get_fee(text):
    text = re.sub(r',', "", text)
    text = re.findall(r'₹\d+', text)
    if text != []:
        return text[0]
    else:
        return 0

df_train['Misc_Fees'] = df_train['Miscellaneous_Info'].apply(get_fee)
df_train['Misc_Fees'] = df_train['Misc_Fees'].str.replace('₹','')
df_train['Misc_Fees'].fillna(50, inplace=True)
df_train['Misc_Fees'] = df_train['Misc_Fees'].astype(int)

df_test['Misc_Fees'] = df_test['Miscellaneous_Info'].apply(get_fee)
df_test['Misc_Fees'] = df_test['Misc_Fees'].str.replace('₹','')
df_test['Misc_Fees'].fillna(50, inplace=True)
df_test['Misc_Fees'] = df_test['Misc_Fees'].astype(float)



def clean_misc(text):
    text = str(text).lower()
    text = re.sub(r'[^a-z0-9]', ' ', text)
    text = re.sub(r'\s+', ' ', text)
    return text

df_train['Miscellaneous_Info'] = df_train['Miscellaneous_Info'].apply(clean_misc)
df_test['Miscellaneous_Info'] = df_test['Miscellaneous_Info'].apply(clean_misc)



df_train = pd.get_dummies(df_train, columns=['Profile'])
df_test  = pd.get_dummies(df_test,  columns=['Profile'])


df_train.head()



X = df_train.drop(labels=['Fees'], axis=1)
y = df_train['Fees'].values

from sklearn.model_selection import train_test_split
X_train, X_cv, y_train, y_cv = train_test_split(X, y, test_size=0.25, random_state=1)



X_train.shape, y_train.shape, X_cv.shape, y_cv.shape

